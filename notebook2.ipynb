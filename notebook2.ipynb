{
 "cells": [
  {
   "cell_type": "markdown",
   "id": "d8bba665",
   "metadata": {
    "deletable": false,
    "editable": false
   },
   "source": [
    "<img src=\"https://www.sturgischarterschool.com/wp-content/uploads/2019/06/sturgisheader_logo.png\" alt=\"sturgis\" width=\"250\" align=\"right\"/>\n",
    "\n",
    "## Computer Science 'Algorithms and Recipes' notebook 2\n",
    "### Sturgis Charter Public School \n",
    "\n"
   ]
  },
  {
   "cell_type": "markdown",
   "id": "681696fb",
   "metadata": {},
   "source": [
    "Student: [your name here]\n",
    "\n",
    "Collaborators: [N/A]\n",
    "\n",
    "Notes to the teacher: [N/A]"
   ]
  },
  {
   "cell_type": "markdown",
   "id": "16bf0839",
   "metadata": {
    "deletable": false,
    "editable": false
   },
   "source": [
    "### Learning Objectives for notebook \n",
    "* Building Functions\n",
    "    * What is a function?\n",
    "    * What is the difference between building a function and using a function?\n",
    "    * Parameters and Return\n",
    "* List Methods\n",
    "    * How to manipulate lists with various commands\n",
    "* Debugging\n",
    "    * `type()`\n",
    "    * `len()`\n",
    "    * `print()`"
   ]
  },
  {
   "cell_type": "markdown",
   "id": "e4fd0f28",
   "metadata": {
    "deletable": false,
    "editable": false
   },
   "source": [
    "### Narrative\n",
    "\n",
    "#### Functions\n",
    "\n",
    "This week we are going to start to explore some other important aspects of python. Python, like most computer programming language is object oriented programming (OOP). This means that rather than being monolithic, we want to break our programs into smaller 'objects' and each of these objects will abstract their complexity from the rest of program. Rather, we can simply ask: \n",
    "> what input (if any) does it require, what output (if any) does it produce?\n",
    "\n",
    "There is a huge amount of power in this. The input(s) are called parameters, and the contents of a function are called statements. It will look something like this. \n",
    "\n",
    "`examplefunction(parameter):\n",
    "    parameter = 5\n",
    "    return parameter`\n",
    "    \n",
    "#### List methods\n",
    "\n",
    "Now that we know there are various data types, and we know that a list (or array) holds a series of data. There are various tools (known as methods) that we can apply to a list. Here they are. [w3schools](https://www.w3schools.com/python/python_ref_list.asp)\n",
    "\n",
    "##### Method\tDescription\n",
    "* append()\tAdds an element at the end of the list\n",
    "* clear()\tRemoves all the elements from the list\n",
    "* copy()\tReturns a copy of the list\n",
    "* count()\tReturns the number of elements with the specified value\n",
    "* extend()\tAdd the elements of a list (or any iterable), to the end of the current list\n",
    "* index()\tReturns the index of the first element with the specified value\n",
    "* insert()\tAdds an element at the specified position\n",
    "* pop()\tRemoves the element at the specified position\n",
    "* remove()\tRemoves the first item with the specified value\n",
    "* reverse()\tReverses the order of the list\n",
    "* sort()\tSorts the list\n",
    "\n",
    "#### Debugging\n",
    "\n",
    "Finally, what do you do when your program isn't working? There are many tools that can be used to debug. First be aware that when Python throws an error at you, it's going to give you some knowledge of where that error is coming from. It often will point to a line, and then indicate what type of error you are receiving. Jupyter notebook does have a more robust debugger tool, but it requires some additional installs. For the time being we're going to use some more manual techniques. Note that jupyter notebooks can enable or disable view on the line numbers. Under `view` there is an option which says `Toggle Line Numbers` which in my notebook has a hotkey of `shift-L`"
   ]
  },
  {
   "cell_type": "code",
   "execution_count": 1,
   "id": "fb3eb272",
   "metadata": {},
   "outputs": [],
   "source": [
    "#let's build a function\n",
    "# def shows that we're starting a function\n",
    "def multiplier(base, multiplier):\n",
    "    #The indent or tab is a necessary part of the function. Python uses what is called whitespace.\n",
    "    #Think of whitespace as invisible, but necessary code.\n",
    "    return base * multiplier #return ends the function, although technically speaking it is only necessary if you're returning something."
   ]
  },
  {
   "cell_type": "code",
   "execution_count": 2,
   "id": "3b68695a",
   "metadata": {},
   "outputs": [
    {
     "name": "stdout",
     "output_type": "stream",
     "text": [
      "42\n"
     ]
    }
   ],
   "source": [
    "#Now let's call that function\n",
    "answer = multiplier(6,7)\n",
    "print(answer)"
   ]
  },
  {
   "cell_type": "code",
   "execution_count": 4,
   "id": "d2ce0a05",
   "metadata": {},
   "outputs": [
    {
     "name": "stdout",
     "output_type": "stream",
     "text": [
      "[4, 2, 2, 7, 6, 4, 6, 3, 2]\n"
     ]
    }
   ],
   "source": [
    "#let's make a more complicated function.\n",
    "#note the tempo: I make the function -> it doesn't do anything, it's just a template -> I call the function, it does something.\n",
    "def wordlength(string):\n",
    "    wlengths = []\n",
    "    counter = 0\n",
    "    for hotwheel in string:\n",
    "        if hotwheel != ' ':\n",
    "            counter += 1\n",
    "        else:\n",
    "            wlengths.append(counter)\n",
    "            counter = 0\n",
    "    return wlengths\n",
    "\n",
    "#this time we'll run it in the same cell\n",
    "answer = wordlength(\"this is my really, really long string for an example.\")\n",
    "print(answer)\n",
    "#uh-oh, this function isn't working the way that I want it to! What's wrong? What do I need to change to fix it?"
   ]
  },
  {
   "cell_type": "markdown",
   "id": "b1216f9d",
   "metadata": {
    "deletable": false,
    "editable": false
   },
   "source": [
    "#### Question 1\n",
    "Now it's your turn. Write a function which accepts two parameters, and calculates the difference in length of **words** between the two strings. The return value should be an intiger value that is a positive number. So, if one sentence has 6 words and the other has 12 words, the answer should be 6. You may not use any imports to build your answer. "
   ]
  },
  {
   "cell_type": "code",
   "execution_count": 24,
   "id": "509909c8",
   "metadata": {},
   "outputs": [],
   "source": [
    "def lcomparison(par1, par2):\n",
    "    raise NotImplementedError\n",
    "    #Erase the above line, and then implement your solution\n",
    "    #Don't forget to use the return statement"
   ]
  },
  {
   "cell_type": "code",
   "execution_count": 25,
   "id": "3b7fd013",
   "metadata": {
    "deletable": false,
    "editable": false
   },
   "outputs": [
    {
     "ename": "AssertionError",
     "evalue": "",
     "output_type": "error",
     "traceback": [
      "\u001b[0;31m---------------------------------------------------------------------------\u001b[0m",
      "\u001b[0;31mAssertionError\u001b[0m                            Traceback (most recent call last)",
      "\u001b[0;32m/tmp/ipykernel_5696/3603102857.py\u001b[0m in \u001b[0;36m<module>\u001b[0;34m\u001b[0m\n\u001b[1;32m      7\u001b[0m \u001b[0ms4\u001b[0m \u001b[0;34m=\u001b[0m \u001b[0;34m\"how are you?\"\u001b[0m\u001b[0;34m\u001b[0m\u001b[0;34m\u001b[0m\u001b[0m\n\u001b[1;32m      8\u001b[0m \u001b[0;34m\u001b[0m\u001b[0m\n\u001b[0;32m----> 9\u001b[0;31m \u001b[0;32massert\u001b[0m \u001b[0mlcomparison\u001b[0m\u001b[0;34m(\u001b[0m\u001b[0ms3\u001b[0m\u001b[0;34m,\u001b[0m \u001b[0ms4\u001b[0m\u001b[0;34m)\u001b[0m \u001b[0;34m==\u001b[0m \u001b[0;36m7\u001b[0m\u001b[0;34m\u001b[0m\u001b[0;34m\u001b[0m\u001b[0m\n\u001b[0m",
      "\u001b[0;31mAssertionError\u001b[0m: "
     ]
    }
   ],
   "source": [
    "s1 = \"This is short.\"\n",
    "s2 = \"This is a lugubriously long sentence with an unfortunate amount of words embedded within.\"\n",
    "\n",
    "assert lcomparison(s1, s2) == 11\n",
    "\n",
    "s3 = \"a painfully obvious misgiving is that we over-fed the children\" \n",
    "s4 = \"how are you?\"\n",
    "\n",
    "assert lcomparison(s3, s4) == 7"
   ]
  },
  {
   "cell_type": "markdown",
   "id": "c316fa44",
   "metadata": {},
   "source": [
    "#### Question 2 \n",
    "Alright, let's turn our attention to lists. I'm going to show you a couple of methods, and then it will be your job to use some of the other methods to pass the assert checks. "
   ]
  },
  {
   "cell_type": "code",
   "execution_count": 34,
   "id": "d999a393",
   "metadata": {},
   "outputs": [
    {
     "name": "stdout",
     "output_type": "stream",
     "text": [
      "table ['cup', 'water', 'fridge', 'class', 'book', 'computer', 'chair', 'car', 'wash', 'slip', 'hug', 'power', 'change', 'shampoo', 'cat', 'basket', 'rabbid', 'old', 'fast', 'zipper', 'blizzard', 'snap'] \n",
      "\n",
      "['cup', 'water', 'fridge', 'class', 'book', 'computer', 'chair', 'car', 'wash', 'slip', 'table', 'hug', 'power', 'change', 'shampoo', 'cat', 'basket', 'rabbid', 'old', 'fast', 'zipper', 'blizzard', 'snap'] \n",
      "\n",
      "['basket', 'blizzard', 'book', 'car', 'cat', 'chair', 'change', 'class', 'computer', 'cup', 'fast', 'fridge', 'hug', 'old', 'power', 'rabbid', 'shampoo', 'slip', 'snap', 'table', 'wash', 'water', 'zipper'] \n",
      "\n",
      "['zipper', 'water', 'wash', 'table', 'snap', 'slip', 'shampoo', 'rabbid', 'power', 'old', 'hug', 'fridge', 'fast', 'cup', 'computer', 'class', 'change', 'chair', 'cat', 'car', 'book', 'blizzard', 'basket'] \n",
      "\n"
     ]
    }
   ],
   "source": [
    "#Use this list for the following assert checks.\n",
    "lv = ['cup', 'water', 'fridge', 'table', 'class', 'book', 'computer', 'chair', 'car', 'wash', 'slip', 'hug', 'power', 'change', 'shampoo', 'cat', 'basket', 'rabbid', 'old', 'fast', 'zipper', 'blizzard', 'snap']\n",
    "\n",
    "# let's imagine that I want to remove the third element. \n",
    "popped = lv.pop(3)\n",
    "print(popped, lv, '\\n')\n",
    "\n",
    "# let's imagine that I want to insert that now as the 11th element.\n",
    "lv.insert(10, popped)\n",
    "print(lv, '\\n')\n",
    "\n",
    "# let's imagine that I want to sort the list alphabetically.\n",
    "lv.sort()\n",
    "print(lv, '\\n')\n",
    "\n",
    "# let's imagine that I want to sort it in reverse\n",
    "lv.sort(reverse = True)\n",
    "print(lv, '\\n')"
   ]
  },
  {
   "cell_type": "code",
   "execution_count": null,
   "id": "5a9870fe",
   "metadata": {},
   "outputs": [],
   "source": [
    "lv = ['cup', 'water', 'fridge', 'table', 'class', 'book', 'computer', 'chair', 'car', 'wash', 'slip', 'hug', 'power', 'change', 'shampoo', 'cat', 'basket', 'rabbid', 'old', 'fast', 'zipper', 'blizzard', 'snap']\n",
    "#Your turn, modify the list in order to pass the following assert checks"
   ]
  },
  {
   "cell_type": "code",
   "execution_count": null,
   "id": "a701037a",
   "metadata": {
    "deletable": false,
    "editable": false
   },
   "outputs": [],
   "source": [
    "assert lv[9] == 'hug'"
   ]
  },
  {
   "cell_type": "code",
   "execution_count": null,
   "id": "4c25adf9",
   "metadata": {},
   "outputs": [],
   "source": [
    "lv = ['cup', 'water', 'fridge', 'table', 'class', 'book', 'computer', 'chair', 'car', 'wash', 'slip', 'hug', 'power', 'change', 'shampoo', 'cat', 'basket', 'rabbid', 'old', 'fast', 'zipper', 'blizzard', 'snap']\n",
    "#it might be helpful to reset the list."
   ]
  },
  {
   "cell_type": "code",
   "execution_count": null,
   "id": "97479f58",
   "metadata": {
    "deletable": false,
    "editable": false
   },
   "outputs": [],
   "source": [
    "assert len(lv) == 0"
   ]
  },
  {
   "cell_type": "code",
   "execution_count": 38,
   "id": "10ace81c",
   "metadata": {},
   "outputs": [],
   "source": [
    "lv = ['cup', 'water', 'fridge', 'table', 'class', 'book', 'computer', 'chair', 'car', 'wash', 'slip', 'hug', 'power', 'change', 'shampoo', 'cat', 'basket', 'rabbid', 'old', 'fast', 'zipper', 'blizzard', 'snap']\n",
    "#it might be helpful to reset the list."
   ]
  },
  {
   "cell_type": "code",
   "execution_count": null,
   "id": "32889201",
   "metadata": {
    "deletable": false,
    "editable": false
   },
   "outputs": [],
   "source": [
    "for word in lv:\n",
    "    assert word[0] != c"
   ]
  },
  {
   "cell_type": "markdown",
   "id": "f1d5d738",
   "metadata": {},
   "source": [
    "#### Question 3\n",
    "Now let's look at debugging. Let's imagine that we have two lists that we think should match, but for some reason they don't. What can we do to figure out what's going on?"
   ]
  },
  {
   "cell_type": "code",
   "execution_count": 48,
   "id": "bde5798a",
   "metadata": {},
   "outputs": [],
   "source": [
    "list1 = ['cup', 'water', 'fridge', 'table', 'class', 'book', 'computer', 'chair', 'car', 'wash', 'slip', 'hug', 'power', 'change', 'shampoo', 'cat', 'basket', 'rabbid', 'old', 'fast', 'zipper', 'blizzard', 'snap']\n",
    "list2 = ['cup', 'water', 'fridge', 'table', 'class', 'book', 'computer', 'chair', 'car', 'wash', 'slip', 'hug', 'power', 'change', 'shampoo', 'cat', 'basket', 'rabbid', 'old', 'fast', 'zipper', 'blizzard', 'snap'],\n",
    "if list1 == list2:\n",
    "    print(\"list1 a list2 match\")"
   ]
  },
  {
   "cell_type": "code",
   "execution_count": 47,
   "id": "ce540fac",
   "metadata": {},
   "outputs": [
    {
     "name": "stdout",
     "output_type": "stream",
     "text": [
      "list1:  23 <class 'list'>\n",
      "list2:  1 <class 'tuple'>\n",
      "(['cup', 'water', 'fridge', 'table', 'class', 'book', 'computer', 'chair', 'car', 'wash', 'slip', 'hug', 'power', 'change', 'shampoo', 'cat', 'basket', 'rabbid', 'old', 'fast', 'zipper', 'blizzard', 'snap'],)\n"
     ]
    }
   ],
   "source": [
    "#let's take a look at two main things. Type, and length. \n",
    "print('list1: ', len(list1), type(list1))\n",
    "print('list2: ', len(list2), type(list2))\n",
    "#Now that's odd! We can literally see list 2 and there's like 23 items right there. What's up with that?!\n",
    "#Of course, the other thing is that it's somehow not a list. How'd that happen?\n",
    "#print(list2)\n",
    "#Do you see what happened?"
   ]
  },
  {
   "cell_type": "code",
   "execution_count": 73,
   "id": "b8875a36",
   "metadata": {
    "deletable": false,
    "editable": false
   },
   "outputs": [],
   "source": [
    "#hint there is no difference between '' and \"\".\n",
    "list3 = [1, \"5\", \"fourteen\", 81.761, (\"hello\", 5), ['cup', 'water', 'Fridge', 'table', 'class', 'computer', ['chair'], 'car', 'wash', 'book', 'slip', 'hug', 'power']]\n",
    "list4 = ['water', 'wash', 'table', 'slip', 'power', 'hug', 'hello', 'fourteen', 'cup', 'computer', 'class', 'chair', 'car', 'book', 'Fridge', '81.761', '5', '5', '1']"
   ]
  },
  {
   "cell_type": "code",
   "execution_count": null,
   "id": "90b5809f",
   "metadata": {
    "deletable": false,
    "editable": false
   },
   "outputs": [],
   "source": [
    "#modify list 3 and list 4 so that they are the same. You may not overwrite the list.\n",
    "#If you can't get the lists to match, then you may write out comments of all the differences between the two lists.\n",
    "assert list3 == list4"
   ]
  },
  {
   "cell_type": "markdown",
   "id": "d619dfd1",
   "metadata": {},
   "source": [
    "#### Question 4\n",
    "\n",
    "The following question is a short response question. Reference the image to answer the following questions. \n",
    "![image](Rodriguez.png)\n",
    "\n",
    "##### 4.1: Define the term concurrent processing\n",
    "[your answer]\n",
    "##### 4.2: Identify two tasks that are carried out sequentially\n",
    "[your answer]\n",
    "##### 4.3: Describe how the idea of abstraction applies to one of the tasks.\n",
    "[your answer]\n",
    "##### 4.4: Explain one advantage and one disadvantage of carrying out a number of tasks concurrently.\n",
    "[your answer]"
   ]
  }
 ],
 "metadata": {
  "celltoolbar": "Edit Metadata",
  "kernelspec": {
   "display_name": "Python 3 (ipykernel)",
   "language": "python",
   "name": "python3"
  },
  "language_info": {
   "codemirror_mode": {
    "name": "ipython",
    "version": 3
   },
   "file_extension": ".py",
   "mimetype": "text/x-python",
   "name": "python",
   "nbconvert_exporter": "python",
   "pygments_lexer": "ipython3",
   "version": "3.9.7"
  }
 },
 "nbformat": 4,
 "nbformat_minor": 5
}
